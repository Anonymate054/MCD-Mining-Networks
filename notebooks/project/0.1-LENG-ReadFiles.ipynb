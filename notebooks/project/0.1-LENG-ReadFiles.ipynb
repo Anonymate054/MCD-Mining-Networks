{
 "cells": [
  {
   "cell_type": "markdown",
   "metadata": {},
   "source": [
    "# Auto reload modules"
   ]
  },
  {
   "cell_type": "code",
   "execution_count": 1,
   "metadata": {},
   "outputs": [],
   "source": [
    "%load_ext autoreload\n",
    "%autoreload 2"
   ]
  },
  {
   "cell_type": "markdown",
   "metadata": {},
   "source": [
    "# Directories"
   ]
  },
  {
   "cell_type": "code",
   "execution_count": 2,
   "metadata": {},
   "outputs": [],
   "source": [
    "import pandas as pd\n",
    "import fs"
   ]
  },
  {
   "cell_type": "code",
   "execution_count": 3,
   "metadata": {},
   "outputs": [],
   "source": [
    "TSV_RAW_DIR = fs.open_fs(\"../../data/raw/tsv\")\n",
    "NAME_BASICS_TSV_FILE_DIR = TSV_RAW_DIR.getsyspath(\"name_basics.tsv\")\n",
    "TITLE_AKAS_TSV_FILE_DIR = TSV_RAW_DIR.getsyspath(\"title_akas.tsv\")\n",
    "TITLE_BASICS_TSV_FILE_DIR = TSV_RAW_DIR.getsyspath(\"title_basics.tsv\")\n",
    "TITLE_CREW_TSV_FILE_DIR = TSV_RAW_DIR.getsyspath(\"title_crew.tsv\")\n",
    "TITLE_EPISODE_TSV_FILE_DIR = TSV_RAW_DIR.getsyspath(\"title_episode.tsv\")\n",
    "TITLE_PRINCIPALS_TSV_FILE_DIR = TSV_RAW_DIR.getsyspath(\"title_principals.tsv\")\n",
    "TITLE_RATIGS_TSV_FILE_DIR = TSV_RAW_DIR.getsyspath(\"title_ratings.tsv\")"
   ]
  },
  {
   "cell_type": "code",
   "execution_count": 4,
   "metadata": {},
   "outputs": [],
   "source": [
    "CSV_RAW_DIR = fs.open_fs(\"../../data/raw/csv\")\n",
    "NAME_BASICS_CSV_FILE_DIR = CSV_RAW_DIR.getsyspath(\"name_basics.csv\")\n",
    "TITLE_AKAS_CSV_FILE_DIR = CSV_RAW_DIR.getsyspath(\"title_akas.csv\")\n",
    "TITLE_BASICS_CSV_FILE_DIR = CSV_RAW_DIR.getsyspath(\"title_basics.csv\")\n",
    "TITLE_CREW_CSV_FILE_DIR = CSV_RAW_DIR.getsyspath(\"title_crew.csv\")\n",
    "TITLE_EPISODE_CSV_FILE_DIR = CSV_RAW_DIR.getsyspath(\"title_episode.csv\")\n",
    "TITLE_PRINCIPALS_CSV_FILE_DIR = CSV_RAW_DIR.getsyspath(\"title_principals.csv\")\n",
    "TITLE_RATIGS_CSV_FILE_DIR = CSV_RAW_DIR.getsyspath(\"title_ratings.csv\")"
   ]
  },
  {
   "cell_type": "code",
   "execution_count": 5,
   "metadata": {},
   "outputs": [],
   "source": [
    "df = pd.read_csv(NAME_BASICS_TSV_FILE_DIR, delimiter='\\t')\n",
    "df.to_csv(NAME_BASICS_CSV_FILE_DIR, index=False, encoding='utf-8')"
   ]
  },
  {
   "cell_type": "code",
   "execution_count": 6,
   "metadata": {},
   "outputs": [],
   "source": [
    "df = pd.read_csv(TITLE_AKAS_TSV_FILE_DIR, delimiter='\\t')\n",
    "df.to_csv(TITLE_AKAS_CSV_FILE_DIR, index=False, encoding='utf-8')"
   ]
  },
  {
   "cell_type": "code",
   "execution_count": 7,
   "metadata": {},
   "outputs": [
    {
     "name": "stderr",
     "output_type": "stream",
     "text": [
      "C:\\Users\\Anony\\AppData\\Local\\Temp\\ipykernel_1592\\2254416911.py:1: DtypeWarning: Columns (4) have mixed types. Specify dtype option on import or set low_memory=False.\n",
      "  df = pd.read_csv(TITLE_BASICS_TSV_FILE_DIR, delimiter='\\t')\n"
     ]
    }
   ],
   "source": [
    "df = pd.read_csv(TITLE_BASICS_TSV_FILE_DIR, delimiter='\\t')\n",
    "df.to_csv(TITLE_BASICS_TSV_FILE_DIR, index=False, encoding='utf-8')"
   ]
  },
  {
   "cell_type": "code",
   "execution_count": 8,
   "metadata": {},
   "outputs": [],
   "source": [
    "df = pd.read_csv(TITLE_CREW_TSV_FILE_DIR, delimiter='\\t')\n",
    "df.to_csv(TITLE_CREW_CSV_FILE_DIR, index=False, encoding='utf-8')"
   ]
  },
  {
   "cell_type": "code",
   "execution_count": 9,
   "metadata": {},
   "outputs": [],
   "source": [
    "df = pd.read_csv(TITLE_EPISODE_TSV_FILE_DIR, delimiter='\\t')\n",
    "df.to_csv(TITLE_EPISODE_TSV_FILE_DIR, index=False, encoding='utf-8')"
   ]
  },
  {
   "cell_type": "code",
   "execution_count": 10,
   "metadata": {},
   "outputs": [],
   "source": [
    "df = pd.read_csv(TITLE_PRINCIPALS_TSV_FILE_DIR, delimiter='\\t')\n",
    "df.to_csv(TITLE_PRINCIPALS_CSV_FILE_DIR, index=False, encoding='utf-8')"
   ]
  },
  {
   "cell_type": "code",
   "execution_count": 11,
   "metadata": {},
   "outputs": [],
   "source": [
    "df = pd.read_csv(TITLE_RATIGS_TSV_FILE_DIR, delimiter='\\t')\n",
    "df.to_csv(TITLE_RATIGS_CSV_FILE_DIR, index=False, encoding='utf-8')"
   ]
  }
 ],
 "metadata": {
  "kernelspec": {
   "display_name": "DMN",
   "language": "python",
   "name": "python3"
  },
  "language_info": {
   "codemirror_mode": {
    "name": "ipython",
    "version": 3
   },
   "file_extension": ".py",
   "mimetype": "text/x-python",
   "name": "python",
   "nbconvert_exporter": "python",
   "pygments_lexer": "ipython3",
   "version": "3.11.9"
  }
 },
 "nbformat": 4,
 "nbformat_minor": 2
}
