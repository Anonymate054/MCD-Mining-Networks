{
 "cells": [
  {
   "cell_type": "markdown",
   "metadata": {},
   "source": [
    "# Auto reload modules"
   ]
  },
  {
   "cell_type": "code",
   "execution_count": 1,
   "metadata": {},
   "outputs": [],
   "source": [
    "%load_ext autoreload\n",
    "%autoreload 2"
   ]
  },
  {
   "cell_type": "markdown",
   "metadata": {},
   "source": [
    "# Directories"
   ]
  },
  {
   "cell_type": "code",
   "execution_count": 2,
   "metadata": {},
   "outputs": [],
   "source": [
    "from multiprocessing.pool import ThreadPool\n",
    "from urllib import request\n",
    "import pandas as pd\n",
    "import sqlalchemy\n",
    "import requests\n",
    "import shutil\n",
    "import urllib\n",
    "import pyodbc\n",
    "import gzip\n",
    "import re\n",
    "import fs"
   ]
  },
  {
   "cell_type": "code",
   "execution_count": 3,
   "metadata": {},
   "outputs": [],
   "source": [
    "RAW_DIR = fs.open_fs(\"../../data/raw\")"
   ]
  },
  {
   "cell_type": "code",
   "execution_count": 4,
   "metadata": {},
   "outputs": [],
   "source": [
    "def decompress_gz(input_file: str, output_file: str) -> None:\n",
    "    \"\"\"\n",
    "    Descomprime un archivo .gz y guarda el contenido descomprimido en un archivo de salida.\n",
    "\n",
    "    Parameters:\n",
    "    - input_file (str): Ruta del archivo comprimido .gz.\n",
    "    - output_file (str): Ruta del archivo donde se guardará el contenido descomprimido.\n",
    "    \"\"\"\n",
    "    try:\n",
    "        with gzip.open(input_file, 'rb') as f_in:\n",
    "            with open(output_file, 'wb') as f_out:\n",
    "                shutil.copyfileobj(f_in, f_out)\n",
    "        print(f\"Archivo {input_file} descomprimido exitosamente como {output_file}\")\n",
    "    except FileNotFoundError:\n",
    "        print(f\"Error: El archivo {input_file} no fue encontrado.\")\n",
    "    except Exception as e:\n",
    "        print(f\"Se produjo un error: {e}\")\n",
    "\n"
   ]
  },
  {
   "cell_type": "code",
   "execution_count": 5,
   "metadata": {},
   "outputs": [],
   "source": [
    "def download_url(url):\n",
    "    # Download process\n",
    "    print(\"downloading: \",url)\n",
    "    file_title = re.split(pattern='/', string=url)[-1]\n",
    "    FILE_DIR = RAW_DIR.getsyspath(\"gz/\"+file_title)\n",
    "    urlrtv = request.urlretrieve(url=url, filename=FILE_DIR)\n",
    "   \n",
    "    decompress_gz(FILE_DIR, FILE_DIR.replace(\"gz\", \"tsv\", 1).replace(\".\", \"_\" ,1).replace(\".gz\", \"\"))"
   ]
  },
  {
   "cell_type": "code",
   "execution_count": 6,
   "metadata": {},
   "outputs": [
    {
     "name": "stdout",
     "output_type": "stream",
     "text": [
      "downloading: downloading:  https://datasets.imdbws.com/title.ratings.tsv.gz\n",
      " https://datasets.imdbws.com/title.episode.tsv.gz\n",
      "downloading:  https://datasets.imdbws.com/title.akas.tsv.gz\n",
      "downloading:  https://datasets.imdbws.com/title.basics.tsv.gz\n",
      "downloading:  https://datasets.imdbws.com/title.crew.tsv.gz\n",
      "Archivo c:\\Users\\Anony\\Documents\\MCD\\Mineria\\DM&N\\data\\raw\\gz\\title.ratings.tsv.gz descomprimido exitosamente como c:\\Users\\Anony\\Documents\\MCD\\Mineria\\DM&N\\data\\raw\\tsv\\title_ratings.tsv\n",
      "downloading:  https://datasets.imdbws.com/title.principals.tsv.gz\n",
      "Archivo c:\\Users\\Anony\\Documents\\MCD\\Mineria\\DM&N\\data\\raw\\gz\\title.episode.tsv.gz descomprimido exitosamente como c:\\Users\\Anony\\Documents\\MCD\\Mineria\\DM&N\\data\\raw\\tsv\\title_episode.tsv\n",
      "downloading:  https://datasets.imdbws.com/name.basics.tsv.gz\n",
      "Archivo c:\\Users\\Anony\\Documents\\MCD\\Mineria\\DM&N\\data\\raw\\gz\\title.crew.tsv.gz descomprimido exitosamente como c:\\Users\\Anony\\Documents\\MCD\\Mineria\\DM&N\\data\\raw\\tsv\\title_crew.tsv\n",
      "Archivo c:\\Users\\Anony\\Documents\\MCD\\Mineria\\DM&N\\data\\raw\\gz\\title.basics.tsv.gz descomprimido exitosamente como c:\\Users\\Anony\\Documents\\MCD\\Mineria\\DM&N\\data\\raw\\tsv\\title_basics.tsv\n",
      "Archivo c:\\Users\\Anony\\Documents\\MCD\\Mineria\\DM&N\\data\\raw\\gz\\title.akas.tsv.gz descomprimido exitosamente como c:\\Users\\Anony\\Documents\\MCD\\Mineria\\DM&N\\data\\raw\\tsv\\title_akas.tsv\n",
      "Archivo c:\\Users\\Anony\\Documents\\MCD\\Mineria\\DM&N\\data\\raw\\gz\\name.basics.tsv.gz descomprimido exitosamente como c:\\Users\\Anony\\Documents\\MCD\\Mineria\\DM&N\\data\\raw\\tsv\\name_basics.tsv\n",
      "Archivo c:\\Users\\Anony\\Documents\\MCD\\Mineria\\DM&N\\data\\raw\\gz\\title.principals.tsv.gz descomprimido exitosamente como c:\\Users\\Anony\\Documents\\MCD\\Mineria\\DM&N\\data\\raw\\tsv\\title_principals.tsv\n"
     ]
    }
   ],
   "source": [
    "# Source: https://developer.imdb.com/non-commercial-datasets/\n",
    "# Lista de URLs\n",
    "urls = [\n",
    "    \"https://datasets.imdbws.com/title.episode.tsv.gz\",\n",
    "    \"https://datasets.imdbws.com/title.ratings.tsv.gz\",\n",
    "    \"https://datasets.imdbws.com/title.akas.tsv.gz\",\n",
    "    \"https://datasets.imdbws.com/title.basics.tsv.gz\",\n",
    "    \"https://datasets.imdbws.com/title.crew.tsv.gz\",\n",
    "    \"https://datasets.imdbws.com/title.principals.tsv.gz\",\n",
    "    \"https://datasets.imdbws.com/name.basics.tsv.gz\"\n",
    "]\n",
    "\n",
    "# Ejecutar múltiples hilos\n",
    "with ThreadPool(5) as pool:\n",
    "    pool.map(download_url, urls)"
   ]
  },
  {
   "cell_type": "code",
   "execution_count": null,
   "metadata": {},
   "outputs": [],
   "source": []
  }
 ],
 "metadata": {
  "kernelspec": {
   "display_name": "DMN",
   "language": "python",
   "name": "python3"
  },
  "language_info": {
   "codemirror_mode": {
    "name": "ipython",
    "version": 3
   },
   "file_extension": ".py",
   "mimetype": "text/x-python",
   "name": "python",
   "nbconvert_exporter": "python",
   "pygments_lexer": "ipython3",
   "version": "3.11.9"
  }
 },
 "nbformat": 4,
 "nbformat_minor": 2
}
