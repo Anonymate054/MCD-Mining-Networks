{
 "cells": [
  {
   "cell_type": "markdown",
   "metadata": {},
   "source": [
    "# Auto reload modules"
   ]
  },
  {
   "cell_type": "code",
   "execution_count": null,
   "metadata": {},
   "outputs": [],
   "source": [
    "%load_ext autoreload\n",
    "%autoreload 2"
   ]
  },
  {
   "cell_type": "markdown",
   "metadata": {},
   "source": [
    "# Directories"
   ]
  },
  {
   "cell_type": "code",
   "execution_count": 1,
   "metadata": {},
   "outputs": [],
   "source": [
    "from multiprocessing.pool import ThreadPool\n",
    "from urllib import request\n",
    "import pandas as pd\n",
    "import sqlalchemy\n",
    "import requests\n",
    "import shutil\n",
    "import urllib\n",
    "import pyodbc\n",
    "import gzip\n",
    "import re\n",
    "import fs"
   ]
  },
  {
   "cell_type": "code",
   "execution_count": 2,
   "metadata": {},
   "outputs": [],
   "source": [
    "RAW_DIR = fs.open_fs(\"../../data/raw\")"
   ]
  },
  {
   "cell_type": "code",
   "execution_count": 5,
   "metadata": {},
   "outputs": [],
   "source": [
    "def download_url(url):\n",
    "    # Download process\n",
    "    print(\"downloading: \",url)\n",
    "    file_title = re.split(pattern='/', string=url)[-1]\n",
    "    FILE_DIR = RAW_DIR.getsyspath(\"gz/\"+file_title)\n",
    "    urlrtv = request.urlretrieve(url=url, filename=FILE_DIR)\n",
    "    \n",
    "    # for \".tsv\" to \".csv\"\n",
    "    title = re.split(pattern=r'\\.tsv', string=FILE_DIR.replace(\"gz\", \"csv\").replace(\".\", \"_\"))[0] +\".csv\"\n",
    "    \n",
    "    # Unzip \".gz\" file\n",
    "    with gzip.open(FILE_DIR, 'rb') as f_in:\n",
    "        with open(title, 'wb') as f_out:\n",
    "            shutil.copyfileobj(f_in, f_out)"
   ]
  },
  {
   "cell_type": "code",
   "execution_count": 6,
   "metadata": {},
   "outputs": [
    {
     "name": "stdout",
     "output_type": "stream",
     "text": [
      "downloading:  https://datasets.imdbws.com/title.episode.tsv.gz\n",
      "downloading:  https://datasets.imdbws.com/title.ratings.tsv.gz\n",
      "downloading:  https://datasets.imdbws.com/title.akas.tsv.gz\n",
      "downloading:  https://datasets.imdbws.com/title.basics.tsv.gz\n",
      "downloading:  https://datasets.imdbws.com/title.crew.tsv.gz\n",
      "downloading:  https://datasets.imdbws.com/title.principals.tsv.gz\n",
      "downloading:  https://datasets.imdbws.com/name.basics.tsv.gz\n"
     ]
    }
   ],
   "source": [
    "# Lista de URLs\n",
    "urls = [\n",
    "    \"https://datasets.imdbws.com/title.episode.tsv.gz\",\n",
    "    \"https://datasets.imdbws.com/title.ratings.tsv.gz\",\n",
    "    \"https://datasets.imdbws.com/title.akas.tsv.gz\",\n",
    "    \"https://datasets.imdbws.com/title.basics.tsv.gz\",\n",
    "    \"https://datasets.imdbws.com/title.crew.tsv.gz\",\n",
    "    \"https://datasets.imdbws.com/title.principals.tsv.gz\",\n",
    "    \"https://datasets.imdbws.com/name.basics.tsv.gz\"\n",
    "]\n",
    "\n",
    "# Ejecutar múltiples hilos\n",
    "with ThreadPool(5) as pool:\n",
    "    pool.map(download_url, urls)"
   ]
  }
 ],
 "metadata": {
  "kernelspec": {
   "display_name": "DMN",
   "language": "python",
   "name": "python3"
  },
  "language_info": {
   "codemirror_mode": {
    "name": "ipython",
    "version": 3
   },
   "file_extension": ".py",
   "mimetype": "text/x-python",
   "name": "python",
   "nbconvert_exporter": "python",
   "pygments_lexer": "ipython3",
   "version": "3.11.9"
  }
 },
 "nbformat": 4,
 "nbformat_minor": 2
}
